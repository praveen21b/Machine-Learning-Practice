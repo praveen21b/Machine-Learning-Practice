{
  "nbformat": 4,
  "nbformat_minor": 0,
  "metadata": {
    "colab": {
      "name": "DataPruning.ipynb",
      "provenance": []
    },
    "kernelspec": {
      "name": "python3",
      "display_name": "Python 3"
    },
    "language_info": {
      "name": "python"
    }
  },
  "cells": [
    {
      "cell_type": "markdown",
      "metadata": {
        "id": "JTnRlke221Jr"
      },
      "source": [
        "## Importing Libraries"
      ]
    },
    {
      "cell_type": "code",
      "metadata": {
        "id": "QBiguxg3ryzT"
      },
      "source": [
        "import numpy as np\n",
        "import matplotlib.pyplot as plt\n",
        "import pandas as pd"
      ],
      "execution_count": null,
      "outputs": []
    },
    {
      "cell_type": "markdown",
      "metadata": {
        "id": "vmd1B7yi259w"
      },
      "source": [
        "##Importing Dataset"
      ]
    },
    {
      "cell_type": "code",
      "metadata": {
        "colab": {
          "base_uri": "https://localhost:8080/",
          "height": 204
        },
        "id": "a6lL1YkT2_TJ",
        "outputId": "59e4582a-d6b6-4267-c7a5-8df6e0a1304b"
      },
      "source": [
        "dataset = pd.read_csv('Social_Network_Ads.csv')\n",
        "dataset.head()"
      ],
      "execution_count": null,
      "outputs": [
        {
          "output_type": "execute_result",
          "data": {
            "text/html": [
              "<div>\n",
              "<style scoped>\n",
              "    .dataframe tbody tr th:only-of-type {\n",
              "        vertical-align: middle;\n",
              "    }\n",
              "\n",
              "    .dataframe tbody tr th {\n",
              "        vertical-align: top;\n",
              "    }\n",
              "\n",
              "    .dataframe thead th {\n",
              "        text-align: right;\n",
              "    }\n",
              "</style>\n",
              "<table border=\"1\" class=\"dataframe\">\n",
              "  <thead>\n",
              "    <tr style=\"text-align: right;\">\n",
              "      <th></th>\n",
              "      <th>Age</th>\n",
              "      <th>EstimatedSalary</th>\n",
              "      <th>Purchased</th>\n",
              "    </tr>\n",
              "  </thead>\n",
              "  <tbody>\n",
              "    <tr>\n",
              "      <th>0</th>\n",
              "      <td>19</td>\n",
              "      <td>19000</td>\n",
              "      <td>0</td>\n",
              "    </tr>\n",
              "    <tr>\n",
              "      <th>1</th>\n",
              "      <td>35</td>\n",
              "      <td>20000</td>\n",
              "      <td>0</td>\n",
              "    </tr>\n",
              "    <tr>\n",
              "      <th>2</th>\n",
              "      <td>26</td>\n",
              "      <td>43000</td>\n",
              "      <td>0</td>\n",
              "    </tr>\n",
              "    <tr>\n",
              "      <th>3</th>\n",
              "      <td>27</td>\n",
              "      <td>57000</td>\n",
              "      <td>0</td>\n",
              "    </tr>\n",
              "    <tr>\n",
              "      <th>4</th>\n",
              "      <td>19</td>\n",
              "      <td>76000</td>\n",
              "      <td>0</td>\n",
              "    </tr>\n",
              "  </tbody>\n",
              "</table>\n",
              "</div>"
            ],
            "text/plain": [
              "   Age  EstimatedSalary  Purchased\n",
              "0   19            19000          0\n",
              "1   35            20000          0\n",
              "2   26            43000          0\n",
              "3   27            57000          0\n",
              "4   19            76000          0"
            ]
          },
          "metadata": {},
          "execution_count": 2
        }
      ]
    },
    {
      "cell_type": "code",
      "metadata": {
        "colab": {
          "base_uri": "https://localhost:8080/",
          "height": 295
        },
        "id": "1Sc0t7qmD8fM",
        "outputId": "e1df5199-8455-4478-80e6-416217e05e7a"
      },
      "source": [
        "plt.scatter(dataset.Age,dataset.EstimatedSalary)\n",
        "plt.axvline(x=25,color='r')\n",
        "plt.title('Unpruned Dataset')\n",
        "plt.xlabel('Age')\n",
        "plt.ylabel('Estimated Salary')\n",
        "#plt.legend()\n",
        "plt.show()"
      ],
      "execution_count": null,
      "outputs": [
        {
          "output_type": "display_data",
          "data": {
            "image/png": "[encoded data removed]",
            "text/plain": [
              "<Figure size 432x288 with 1 Axes>"
            ]
          },
          "metadata": {
            "needs_background": "light"
          }
        }
      ]
    },
    {
      "cell_type": "markdown",
      "metadata": {
        "id": "fBqbpuH-GzCv"
      },
      "source": [
        "##Dataset Pruning"
      ]
    },
    {
      "cell_type": "code",
      "metadata": {
        "colab": {
          "base_uri": "https://localhost:8080/",
          "height": 204
        },
        "id": "eIORjDaiDr3c",
        "outputId": "5cb8dc44-d71a-4eb4-ecb6-6e1846e3561a"
      },
      "source": [
        "dataset = dataset[dataset.Age > 25]\n",
        "dataset.head()"
      ],
      "execution_count": null,
      "outputs": [
        {
          "output_type": "execute_result",
          "data": {
            "text/html": [
              "<div>\n",
              "<style scoped>\n",
              "    .dataframe tbody tr th:only-of-type {\n",
              "        vertical-align: middle;\n",
              "    }\n",
              "\n",
              "    .dataframe tbody tr th {\n",
              "        vertical-align: top;\n",
              "    }\n",
              "\n",
              "    .dataframe thead th {\n",
              "        text-align: right;\n",
              "    }\n",
              "</style>\n",
              "<table border=\"1\" class=\"dataframe\">\n",
              "  <thead>\n",
              "    <tr style=\"text-align: right;\">\n",
              "      <th></th>\n",
              "      <th>Age</th>\n",
              "      <th>EstimatedSalary</th>\n",
              "      <th>Purchased</th>\n",
              "    </tr>\n",
              "  </thead>\n",
              "  <tbody>\n",
              "    <tr>\n",
              "      <th>1</th>\n",
              "      <td>35</td>\n",
              "      <td>20000</td>\n",
              "      <td>0</td>\n",
              "    </tr>\n",
              "    <tr>\n",
              "      <th>2</th>\n",
              "      <td>26</td>\n",
              "      <td>43000</td>\n",
              "      <td>0</td>\n",
              "    </tr>\n",
              "    <tr>\n",
              "      <th>3</th>\n",
              "      <td>27</td>\n",
              "      <td>57000</td>\n",
              "      <td>0</td>\n",
              "    </tr>\n",
              "    <tr>\n",
              "      <th>5</th>\n",
              "      <td>27</td>\n",
              "      <td>58000</td>\n",
              "      <td>0</td>\n",
              "    </tr>\n",
              "    <tr>\n",
              "      <th>6</th>\n",
              "      <td>27</td>\n",
              "      <td>84000</td>\n",
              "      <td>0</td>\n",
              "    </tr>\n",
              "  </tbody>\n",
              "</table>\n",
              "</div>"
            ],
            "text/plain": [
              "   Age  EstimatedSalary  Purchased\n",
              "1   35            20000          0\n",
              "2   26            43000          0\n",
              "3   27            57000          0\n",
              "5   27            58000          0\n",
              "6   27            84000          0"
            ]
          },
          "metadata": {},
          "execution_count": 4
        }
      ]
    },
    {
      "cell_type": "code",
      "metadata": {
        "id": "_4Gcg9ASHL0D"
      },
      "source": [
        "dataset.to_csv('PrunedDataSet.csv', index=False)"
      ],
      "execution_count": null,
      "outputs": []
    },
    {
      "cell_type": "code",
      "metadata": {
        "id": "QLLIxdiNG6al"
      },
      "source": [
        "X = dataset.iloc[:, :-1].values\n",
        "y = dataset.iloc[:, -1].values"
      ],
      "execution_count": null,
      "outputs": []
    },
    {
      "cell_type": "code",
      "metadata": {
        "colab": {
          "base_uri": "https://localhost:8080/",
          "height": 312
        },
        "id": "pwshS7TQ97-Y",
        "outputId": "176ce7eb-811f-4663-936c-b1ffb16b82e0"
      },
      "source": [
        "plt.scatter(X[:,0],X[:, 1])\n",
        "plt.title('Pruned Dataset')\n",
        "plt.xlabel('Age')\n",
        "plt.ylabel('Estimated Salary')\n",
        "plt.legend()\n",
        "plt.show()"
      ],
      "execution_count": null,
      "outputs": [
        {
          "output_type": "stream",
          "name": "stderr",
          "text": [
            "No handles with labels found to put in legend.\n"
          ]
        },
        {
          "output_type": "display_data",
          "data": {
            "image/png": "[encoded data removed]",
            "text/plain": [
              "<Figure size 432x288 with 1 Axes>"
            ]
          },
          "metadata": {
            "needs_background": "light"
          }
        }
      ]
    },
    {
      "cell_type": "markdown",
      "metadata": {
        "id": "r5NdLSLSCGcy"
      },
      "source": [
        "##Splitting Dataset into Traing and Test Set"
      ]
    },
    {
      "cell_type": "code",
      "metadata": {
        "id": "G8NG0Bk6JT38"
      },
      "source": [
        "from sklearn.model_selection import train_test_split\n",
        "X_train, X_test, y_train, y_test = train_test_split(X, y, test_size = 0.2, random_state = 0)"
      ],
      "execution_count": null,
      "outputs": []
    },
    {
      "cell_type": "code",
      "metadata": {
        "colab": {
          "base_uri": "https://localhost:8080/"
        },
        "id": "kq-FcDdVJvzE",
        "outputId": "e6adaf0a-733e-445c-ae94-dbb5cb951de2"
      },
      "source": [
        "print(X_train)"
      ],
      "execution_count": null,
      "outputs": [
        {
          "output_type": "stream",
          "name": "stdout",
          "text": [
            "[[    39 134000]\n",
            " [    36  99000]\n",
            " [    51 146000]\n",
            " [    49  28000]\n",
            " [    26  16000]\n",
            " [    41  72000]\n",
            " [    59  83000]\n",
            " [    39  77000]\n",
            " [    49  88000]\n",
            " [    37 144000]\n",
            " [    37  53000]\n",
            " [    41  52000]\n",
            " [    26  84000]\n",
            " [    47  30000]\n",
            " [    52 150000]\n",
            " [    48  33000]\n",
            " [    31  66000]\n",
            " [    37  79000]\n",
            " [    29  28000]\n",
            " [    47 107000]\n",
            " [    45  26000]\n",
            " [    36  50000]\n",
            " [    42  73000]\n",
            " [    40  65000]\n",
            " [    35  58000]\n",
            " [    48  41000]\n",
            " [    52 138000]\n",
            " [    48  74000]\n",
            " [    28  32000]\n",
            " [    47 144000]\n",
            " [    31  34000]\n",
            " [    48  33000]\n",
            " [    57  33000]\n",
            " [    54 108000]\n",
            " [    29  75000]\n",
            " [    40  78000]\n",
            " [    59  29000]\n",
            " [    33  41000]\n",
            " [    39  71000]\n",
            " [    26  43000]\n",
            " [    47  51000]\n",
            " [    26  52000]\n",
            " [    40  60000]\n",
            " [    59  88000]\n",
            " [    28  89000]\n",
            " [    53  82000]\n",
            " [    35  22000]\n",
            " [    51  23000]\n",
            " [    42  70000]\n",
            " [    41  79000]\n",
            " [    49  36000]\n",
            " [    32 150000]\n",
            " [    27  31000]\n",
            " [    58  23000]\n",
            " [    33  69000]\n",
            " [    27  17000]\n",
            " [    42  65000]\n",
            " [    42  65000]\n",
            " [    42  80000]\n",
            " [    48 119000]\n",
            " [    58  47000]\n",
            " [    45  45000]\n",
            " [    35  60000]\n",
            " [    43 133000]\n",
            " [    30  89000]\n",
            " [    32 117000]\n",
            " [    36 118000]\n",
            " [    59 143000]\n",
            " [    27  88000]\n",
            " [    31  71000]\n",
            " [    44 139000]\n",
            " [    47  47000]\n",
            " [    52 114000]\n",
            " [    35  27000]\n",
            " [    35  61000]\n",
            " [    36  54000]\n",
            " [    28  44000]\n",
            " [    42 108000]\n",
            " [    41  87000]\n",
            " [    42 104000]\n",
            " [    32 117000]\n",
            " [    40  72000]\n",
            " [    49  65000]\n",
            " [    50  36000]\n",
            " [    37  93000]\n",
            " [    33  51000]\n",
            " [    48  90000]\n",
            " [    42  54000]\n",
            " [    37  74000]\n",
            " [    40  75000]\n",
            " [    27  58000]\n",
            " [    60  34000]\n",
            " [    29  47000]\n",
            " [    40  75000]\n",
            " [    41  30000]\n",
            " [    60 108000]\n",
            " [    52  21000]\n",
            " [    45 131000]\n",
            " [    45  22000]\n",
            " [    48  35000]\n",
            " [    26  86000]\n",
            " [    46  82000]\n",
            " [    35  73000]\n",
            " [    36 144000]\n",
            " [    47 105000]\n",
            " [    49  39000]\n",
            " [    42 149000]\n",
            " [    46  22000]\n",
            " [    48 141000]\n",
            " [    48  96000]\n",
            " [    38  61000]\n",
            " [    50  20000]\n",
            " [    31  15000]\n",
            " [    37 146000]\n",
            " [    42  53000]\n",
            " [    27  96000]\n",
            " [    26  80000]\n",
            " [    55 130000]\n",
            " [    49  74000]\n",
            " [    47  49000]\n",
            " [    37 137000]\n",
            " [    32  86000]\n",
            " [    34  25000]\n",
            " [    38  71000]\n",
            " [    37  62000]\n",
            " [    33  43000]\n",
            " [    39  59000]\n",
            " [    27  84000]\n",
            " [    39  61000]\n",
            " [    54  26000]\n",
            " [    28  85000]\n",
            " [    29  83000]\n",
            " [    42  75000]\n",
            " [    56 104000]\n",
            " [    41  71000]\n",
            " [    36  63000]\n",
            " [    45  32000]\n",
            " [    57  74000]\n",
            " [    46  74000]\n",
            " [    30 135000]\n",
            " [    29  61000]\n",
            " [    46  28000]\n",
            " [    35  59000]\n",
            " [    37  57000]\n",
            " [    27  58000]\n",
            " [    37  70000]\n",
            " [    35  38000]\n",
            " [    31  18000]\n",
            " [    33  28000]\n",
            " [    26  35000]\n",
            " [    37  80000]\n",
            " [    49  86000]\n",
            " [    37  80000]\n",
            " [    38  50000]\n",
            " [    45  79000]\n",
            " [    46  23000]\n",
            " [    38  61000]\n",
            " [    37  75000]\n",
            " [    39  42000]\n",
            " [    53  34000]\n",
            " [    38  80000]\n",
            " [    33 113000]\n",
            " [    27  57000]\n",
            " [    47  25000]\n",
            " [    28  55000]\n",
            " [    38  50000]\n",
            " [    40  57000]\n",
            " [    29  80000]\n",
            " [    35 108000]\n",
            " [    49  28000]\n",
            " [    35  88000]\n",
            " [    31  89000]\n",
            " [    48  29000]\n",
            " [    58 101000]\n",
            " [    31  68000]\n",
            " [    58  95000]\n",
            " [    41  60000]\n",
            " [    48 131000]\n",
            " [    42  64000]\n",
            " [    38  55000]\n",
            " [    60  42000]\n",
            " [    32 100000]\n",
            " [    59  76000]\n",
            " [    36  60000]\n",
            " [    26  81000]\n",
            " [    49 141000]\n",
            " [    34 115000]\n",
            " [    40  57000]\n",
            " [    29  43000]\n",
            " [    35  23000]\n",
            " [    35  20000]\n",
            " [    44  39000]\n",
            " [    41  63000]\n",
            " [    26  32000]\n",
            " [    56 133000]\n",
            " [    42  54000]\n",
            " [    35  53000]\n",
            " [    46  41000]\n",
            " [    41  51000]\n",
            " [    54  70000]\n",
            " [    46  96000]\n",
            " [    35  25000]\n",
            " [    32 120000]\n",
            " [    41  72000]\n",
            " [    38  71000]\n",
            " [    30  79000]\n",
            " [    35  72000]\n",
            " [    42  80000]\n",
            " [    26 118000]\n",
            " [    47  50000]\n",
            " [    36  33000]\n",
            " [    39  96000]\n",
            " [    48 134000]\n",
            " [    37  55000]\n",
            " [    26  30000]\n",
            " [    38 113000]\n",
            " [    60  83000]\n",
            " [    36  75000]\n",
            " [    37  71000]\n",
            " [    54 104000]\n",
            " [    46  59000]\n",
            " [    53 104000]\n",
            " [    39  42000]\n",
            " [    51 134000]\n",
            " [    43 129000]\n",
            " [    29  83000]\n",
            " [    30 107000]\n",
            " [    41  52000]\n",
            " [    40  71000]\n",
            " [    28  84000]\n",
            " [    34 112000]\n",
            " [    42  90000]\n",
            " [    29 148000]\n",
            " [    39 122000]\n",
            " [    27  90000]\n",
            " [    40 107000]\n",
            " [    59  42000]\n",
            " [    35  39000]\n",
            " [    37  77000]\n",
            " [    37  52000]\n",
            " [    30  49000]\n",
            " [    26  72000]\n",
            " [    35  71000]\n",
            " [    38 112000]\n",
            " [    46  32000]\n",
            " [    35  79000]\n",
            " [    46  88000]\n",
            " [    34  43000]\n",
            " [    57  60000]\n",
            " [    59 130000]\n",
            " [    36 126000]\n",
            " [    30  17000]\n",
            " [    35  50000]\n",
            " [    55  39000]\n",
            " [    31  76000]\n",
            " [    39  79000]\n",
            " [    28  37000]\n",
            " [    31  74000]\n",
            " [    47  43000]\n",
            " [    56  60000]\n",
            " [    60 102000]\n",
            " [    39  71000]\n",
            " [    27  54000]\n",
            " [    50  88000]\n",
            " [    42  79000]\n",
            " [    36  52000]\n",
            " [    28 123000]\n",
            " [    35  75000]\n",
            " [    35  75000]\n",
            " [    49  89000]\n",
            " [    41  72000]\n",
            " [    35  77000]\n",
            " [    32  18000]\n",
            " [    41  72000]\n",
            " [    58  38000]\n",
            " [    39  73000]\n",
            " [    38  59000]\n",
            " [    40  47000]\n",
            " [    27  20000]\n",
            " [    35  91000]]\n"
          ]
        }
      ]
    },
    {
      "cell_type": "code",
      "metadata": {
        "colab": {
          "base_uri": "https://localhost:8080/"
        },
        "id": "cNkvfLB7J0io",
        "outputId": "ce6a9db9-9375-4f58-cc27-7942d3177a29"
      },
      "source": [
        "print(y_train)"
      ],
      "execution_count": null,
      "outputs": [
        {
          "output_type": "stream",
          "name": "stdout",
          "text": [
            "[1 1 1 1 0 0 0 0 1 1 0 0 0 1 1 1 0 1 0 1 1 0 1 0 0 1 1 1 0 1 0 1 1 1 0 0 1\n",
            " 0 0 0 1 0 0 1 0 1 0 1 0 0 1 1 0 1 0 0 0 0 0 1 1 1 0 0 0 0 1 1 0 0 1 0 0 0\n",
            " 0 0 0 1 1 1 1 0 0 1 1 0 1 0 0 0 0 1 0 0 0 1 1 1 1 1 0 0 0 1 1 1 1 0 0 1 0\n",
            " 1 0 1 0 1 0 1 0 1 1 0 0 0 0 0 0 0 0 1 0 0 0 1 0 0 1 1 0 1 0 1 0 0 0 1 0 0\n",
            " 0 0 0 1 0 0 0 1 0 0 0 1 0 0 0 1 0 0 0 0 0 1 0 0 1 1 0 1 0 1 0 0 1 1 1 0 0\n",
            " 1 0 0 0 0 0 0 0 0 1 0 0 1 0 1 0 0 1 0 0 0 0 1 0 1 0 1 1 0 0 1 1 0 0 1 0 1\n",
            " 0 0 1 0 1 0 1 0 1 1 1 1 0 1 0 0 0 0 0 0 0 0 1 0 1 0 1 1 1 0 0 1 0 0 0 0 0\n",
            " 1 1 0 0 1 0 0 1 0 0 1 0 0 0 0 1 0 0 0 0 1]\n"
          ]
        }
      ]
    },
    {
      "cell_type": "code",
      "metadata": {
        "id": "8jFgGkVmJ4YY",
        "colab": {
          "base_uri": "https://localhost:8080/"
        },
        "outputId": "498c8a5e-02a0-47c8-b42a-179be01c9a0a"
      },
      "source": [
        "print(X_test)"
      ],
      "execution_count": null,
      "outputs": [
        {
          "output_type": "stream",
          "name": "stdout",
          "text": [
            "[[    35  65000]\n",
            " [    32  18000]\n",
            " [    41  45000]\n",
            " [    28  79000]\n",
            " [    28  59000]\n",
            " [    47 113000]\n",
            " [    46  79000]\n",
            " [    52  38000]\n",
            " [    55 125000]\n",
            " [    40  59000]\n",
            " [    35  55000]\n",
            " [    35  44000]\n",
            " [    43 112000]\n",
            " [    34  72000]\n",
            " [    48  30000]\n",
            " [    34  43000]\n",
            " [    35  47000]\n",
            " [    35  57000]\n",
            " [    27  89000]\n",
            " [    48 138000]\n",
            " [    35 147000]\n",
            " [    39  75000]\n",
            " [    30  15000]\n",
            " [    60  46000]\n",
            " [    28  59000]\n",
            " [    27 137000]\n",
            " [    45  22000]\n",
            " [    41  59000]\n",
            " [    40  61000]\n",
            " [    32 135000]\n",
            " [    30 116000]\n",
            " [    31 118000]\n",
            " [    28  87000]\n",
            " [    60  42000]\n",
            " [    26  17000]\n",
            " [    31  58000]\n",
            " [    33 149000]\n",
            " [    57 122000]\n",
            " [    41  80000]\n",
            " [    47  20000]\n",
            " [    38  51000]\n",
            " [    35  72000]\n",
            " [    35  97000]\n",
            " [    39 106000]\n",
            " [    26  15000]\n",
            " [    30  87000]\n",
            " [    33  31000]\n",
            " [    52  90000]\n",
            " [    39 134000]\n",
            " [    37  78000]\n",
            " [    46 117000]\n",
            " [    57  26000]\n",
            " [    38  65000]\n",
            " [    26  80000]\n",
            " [    26  15000]\n",
            " [    40  57000]\n",
            " [    50  44000]\n",
            " [    36 125000]\n",
            " [    37  33000]\n",
            " [    30  62000]\n",
            " [    58 144000]\n",
            " [    33  60000]\n",
            " [    30  80000]\n",
            " [    47  23000]\n",
            " [    29  43000]\n",
            " [    37  72000]\n",
            " [    40 142000]\n",
            " [    53  72000]\n",
            " [    53 143000]\n",
            " [    35  50000]\n",
            " [    47  34000]]\n"
          ]
        }
      ]
    },
    {
      "cell_type": "code",
      "metadata": {
        "id": "V4yQv3A6J7D2",
        "colab": {
          "base_uri": "https://localhost:8080/"
        },
        "outputId": "12a1161b-ee2c-4d5f-ffcf-344caa64da5b"
      },
      "source": [
        "print(y_test)"
      ],
      "execution_count": null,
      "outputs": [
        {
          "output_type": "stream",
          "name": "stdout",
          "text": [
            "[0 0 0 0 0 1 1 1 1 0 0 0 1 0 1 0 0 0 0 1 1 1 0 1 0 1 1 0 0 1 0 1 0 1 0 0 1\n",
            " 1 0 1 0 0 1 1 0 0 0 1 1 1 1 1 0 0 0 0 0 1 0 0 1 0 0 1 0 0 1 1 1 0 1]\n"
          ]
        }
      ]
    },
    {
      "cell_type": "markdown",
      "metadata": {
        "id": "9XkxV7n5KBXG"
      },
      "source": [
        "## Feature Scaling"
      ]
    },
    {
      "cell_type": "code",
      "metadata": {
        "id": "8CY50926KK9s"
      },
      "source": [
        "from sklearn.preprocessing import StandardScaler\n",
        "sc = StandardScaler()\n",
        "X_train = sc.fit_transform(X_train)\n",
        "X_test = sc.transform(X_test)"
      ],
      "execution_count": null,
      "outputs": []
    },
    {
      "cell_type": "code",
      "metadata": {
        "id": "a5wgOdBvKVcE",
        "colab": {
          "base_uri": "https://localhost:8080/"
        },
        "outputId": "3f6b9fd9-582c-4ce3-a6fa-11249d020e02"
      },
      "source": [
        "print(X_train)"
      ],
      "execution_count": null,
      "outputs": [
        {
          "output_type": "stream",
          "name": "stdout",
          "text": [
            "[[-0.12979839  1.86536901]\n",
            " [-0.4601943   0.82177614]\n",
            " [ 1.19178524  2.22317227]\n",
            " [ 0.9715213  -1.29522654]\n",
            " [-1.56151399 -1.6530298 ]\n",
            " [ 0.09046555  0.01671878]\n",
            " [ 2.07284099  0.34470511]\n",
            " [-0.12979839  0.16580348]\n",
            " [ 0.9715213   0.49378981]\n",
            " [-0.35006233  2.1635384 ]\n",
            " [-0.35006233 -0.54980306]\n",
            " [ 0.09046555 -0.57962   ]\n",
            " [-1.56151399  0.37452205]\n",
            " [ 0.75125736 -1.23559266]\n",
            " [ 1.30191721  2.34244003]\n",
            " [ 0.86138933 -1.14614184]\n",
            " [-1.01085415 -0.16218285]\n",
            " [-0.35006233  0.22543736]\n",
            " [-1.23111808 -1.29522654]\n",
            " [ 0.75125736  1.06031165]\n",
            " [ 0.53099342 -1.35486041]\n",
            " [-0.4601943  -0.63925388]\n",
            " [ 0.20059752  0.04653572]\n",
            " [-0.01966642 -0.19199979]\n",
            " [-0.57032627 -0.40071836]\n",
            " [ 0.86138933 -0.90760633]\n",
            " [ 1.30191721  1.98463676]\n",
            " [ 0.86138933  0.07635266]\n",
            " [-1.34125005 -1.17595878]\n",
            " [ 0.75125736  2.1635384 ]\n",
            " [-1.01085415 -1.1163249 ]\n",
            " [ 0.86138933 -1.14614184]\n",
            " [ 1.85257705 -1.14614184]\n",
            " [ 1.52218114  1.09012859]\n",
            " [-1.23111808  0.1061696 ]\n",
            " [-0.01966642  0.19562042]\n",
            " [ 2.07284099 -1.2654096 ]\n",
            " [-0.79059021 -0.90760633]\n",
            " [-0.12979839 -0.01309816]\n",
            " [-1.56151399 -0.84797245]\n",
            " [ 0.75125736 -0.60943694]\n",
            " [-1.56151399 -0.57962   ]\n",
            " [-0.01966642 -0.34108449]\n",
            " [ 2.07284099  0.49378981]\n",
            " [-1.34125005  0.52360675]\n",
            " [ 1.41204918  0.31488817]\n",
            " [-0.57032627 -1.47412817]\n",
            " [ 1.19178524 -1.44431123]\n",
            " [ 0.20059752 -0.04291509]\n",
            " [ 0.09046555  0.22543736]\n",
            " [ 0.9715213  -1.05669102]\n",
            " [-0.90072218  2.34244003]\n",
            " [-1.45138202 -1.20577572]\n",
            " [ 1.96270902 -1.44431123]\n",
            " [-0.79059021 -0.07273203]\n",
            " [-1.45138202 -1.62321286]\n",
            " [ 0.20059752 -0.19199979]\n",
            " [ 0.20059752 -0.19199979]\n",
            " [ 0.20059752  0.2552543 ]\n",
            " [ 0.86138933  1.41811492]\n",
            " [ 1.96270902 -0.72870469]\n",
            " [ 0.53099342 -0.78833857]\n",
            " [-0.57032627 -0.34108449]\n",
            " [ 0.31072948  1.83555207]\n",
            " [-1.12098611  0.52360675]\n",
            " [-0.90072218  1.35848104]\n",
            " [-0.4601943   1.38829798]\n",
            " [ 2.07284099  2.13372146]\n",
            " [-1.45138202  0.49378981]\n",
            " [-1.01085415 -0.01309816]\n",
            " [ 0.42086145  2.0144537 ]\n",
            " [ 0.75125736 -0.72870469]\n",
            " [ 1.30191721  1.26903022]\n",
            " [-0.57032627 -1.32504347]\n",
            " [-0.57032627 -0.31126755]\n",
            " [-0.4601943  -0.51998612]\n",
            " [-1.34125005 -0.81815551]\n",
            " [ 0.20059752  1.09012859]\n",
            " [ 0.09046555  0.46397287]\n",
            " [ 0.20059752  0.97086083]\n",
            " [-0.90072218  1.35848104]\n",
            " [-0.01966642  0.01671878]\n",
            " [ 0.9715213  -0.19199979]\n",
            " [ 1.08165327 -1.05669102]\n",
            " [-0.35006233  0.6428745 ]\n",
            " [-0.79059021 -0.60943694]\n",
            " [ 0.86138933  0.55342369]\n",
            " [ 0.20059752 -0.51998612]\n",
            " [-0.35006233  0.07635266]\n",
            " [-0.01966642  0.1061696 ]\n",
            " [-1.45138202 -0.40071836]\n",
            " [ 2.18297296 -1.1163249 ]\n",
            " [-1.23111808 -0.72870469]\n",
            " [-0.01966642  0.1061696 ]\n",
            " [ 0.09046555 -1.23559266]\n",
            " [ 2.18297296  1.09012859]\n",
            " [ 1.30191721 -1.50394511]\n",
            " [ 0.53099342  1.77591819]\n",
            " [ 0.53099342 -1.47412817]\n",
            " [ 0.86138933 -1.08650796]\n",
            " [-1.56151399  0.43415593]\n",
            " [ 0.64112539  0.31488817]\n",
            " [-0.57032627  0.04653572]\n",
            " [-0.4601943   2.1635384 ]\n",
            " [ 0.75125736  1.00067777]\n",
            " [ 0.9715213  -0.96724021]\n",
            " [ 0.20059752  2.31262309]\n",
            " [ 0.64112539 -1.47412817]\n",
            " [ 0.86138933  2.07408758]\n",
            " [ 0.86138933  0.73232532]\n",
            " [-0.23993036 -0.31126755]\n",
            " [ 1.08165327 -1.53376205]\n",
            " [-1.01085415 -1.68284674]\n",
            " [-0.35006233  2.22317227]\n",
            " [ 0.20059752 -0.54980306]\n",
            " [-1.45138202  0.73232532]\n",
            " [-1.56151399  0.2552543 ]\n",
            " [ 1.63231311  1.74610125]\n",
            " [ 0.9715213   0.07635266]\n",
            " [ 0.75125736 -0.66907081]\n",
            " [-0.35006233  1.95481982]\n",
            " [-0.90072218  0.43415593]\n",
            " [-0.68045824 -1.38467735]\n",
            " [-0.23993036 -0.01309816]\n",
            " [-0.35006233 -0.28145061]\n",
            " [-0.79059021 -0.84797245]\n",
            " [-0.12979839 -0.37090142]\n",
            " [-1.45138202  0.37452205]\n",
            " [-0.12979839 -0.31126755]\n",
            " [ 1.52218114 -1.35486041]\n",
            " [-1.34125005  0.40433899]\n",
            " [-1.23111808  0.34470511]\n",
            " [ 0.20059752  0.1061696 ]\n",
            " [ 1.74244508  0.97086083]\n",
            " [ 0.09046555 -0.01309816]\n",
            " [-0.4601943  -0.25163367]\n",
            " [ 0.53099342 -1.17595878]\n",
            " [ 1.85257705  0.07635266]\n",
            " [ 0.64112539  0.07635266]\n",
            " [-1.12098611  1.89518594]\n",
            " [-1.23111808 -0.31126755]\n",
            " [ 0.64112539 -1.29522654]\n",
            " [-0.57032627 -0.37090142]\n",
            " [-0.35006233 -0.4305353 ]\n",
            " [-1.45138202 -0.40071836]\n",
            " [-0.35006233 -0.04291509]\n",
            " [-0.57032627 -0.99705714]\n",
            " [-1.01085415 -1.59339593]\n",
            " [-0.79059021 -1.29522654]\n",
            " [-1.56151399 -1.08650796]\n",
            " [-0.35006233  0.2552543 ]\n",
            " [ 0.9715213   0.43415593]\n",
            " [-0.35006233  0.2552543 ]\n",
            " [-0.23993036 -0.63925388]\n",
            " [ 0.53099342  0.22543736]\n",
            " [ 0.64112539 -1.44431123]\n",
            " [-0.23993036 -0.31126755]\n",
            " [-0.35006233  0.1061696 ]\n",
            " [-0.12979839 -0.87778939]\n",
            " [ 1.41204918 -1.1163249 ]\n",
            " [-0.23993036  0.2552543 ]\n",
            " [-0.79059021  1.23921329]\n",
            " [-1.45138202 -0.4305353 ]\n",
            " [ 0.75125736 -1.38467735]\n",
            " [-1.34125005 -0.49016918]\n",
            " [-0.23993036 -0.63925388]\n",
            " [-0.01966642 -0.4305353 ]\n",
            " [-1.23111808  0.2552543 ]\n",
            " [-0.57032627  1.09012859]\n",
            " [ 0.9715213  -1.29522654]\n",
            " [-0.57032627  0.49378981]\n",
            " [-1.01085415  0.52360675]\n",
            " [ 0.86138933 -1.2654096 ]\n",
            " [ 1.96270902  0.88141002]\n",
            " [-1.01085415 -0.10254897]\n",
            " [ 1.96270902  0.70250838]\n",
            " [ 0.09046555 -0.34108449]\n",
            " [ 0.86138933  1.77591819]\n",
            " [ 0.20059752 -0.22181673]\n",
            " [-0.23993036 -0.49016918]\n",
            " [ 2.18297296 -0.87778939]\n",
            " [-0.90072218  0.85159308]\n",
            " [ 2.07284099  0.13598654]\n",
            " [-0.4601943  -0.34108449]\n",
            " [-1.56151399  0.28507124]\n",
            " [ 0.9715213   2.07408758]\n",
            " [-0.68045824  1.29884716]\n",
            " [-0.01966642 -0.4305353 ]\n",
            " [-1.23111808 -0.84797245]\n",
            " [-0.57032627 -1.44431123]\n",
            " [-0.57032627 -1.53376205]\n",
            " [ 0.42086145 -0.96724021]\n",
            " [ 0.09046555 -0.25163367]\n",
            " [-1.56151399 -1.17595878]\n",
            " [ 1.74244508  1.83555207]\n",
            " [ 0.20059752 -0.51998612]\n",
            " [-0.57032627 -0.54980306]\n",
            " [ 0.64112539 -0.90760633]\n",
            " [ 0.09046555 -0.60943694]\n",
            " [ 1.52218114 -0.04291509]\n",
            " [ 0.64112539  0.73232532]\n",
            " [-0.57032627 -1.38467735]\n",
            " [-0.90072218  1.44793186]\n",
            " [ 0.09046555  0.01671878]\n",
            " [-0.23993036 -0.01309816]\n",
            " [-1.12098611  0.22543736]\n",
            " [-0.57032627  0.01671878]\n",
            " [ 0.20059752  0.2552543 ]\n",
            " [-1.56151399  1.38829798]\n",
            " [ 0.75125736 -0.63925388]\n",
            " [-0.4601943  -1.14614184]\n",
            " [-0.12979839  0.73232532]\n",
            " [ 0.86138933  1.86536901]\n",
            " [-0.35006233 -0.49016918]\n",
            " [-1.56151399 -1.23559266]\n",
            " [-0.23993036  1.23921329]\n",
            " [ 2.18297296  0.34470511]\n",
            " [-0.4601943   0.1061696 ]\n",
            " [-0.35006233 -0.01309816]\n",
            " [ 1.52218114  0.97086083]\n",
            " [ 0.64112539 -0.37090142]\n",
            " [ 1.41204918  0.97086083]\n",
            " [-0.12979839 -0.87778939]\n",
            " [ 1.19178524  1.86536901]\n",
            " [ 0.31072948  1.71628431]\n",
            " [-1.23111808  0.34470511]\n",
            " [-1.12098611  1.06031165]\n",
            " [ 0.09046555 -0.57962   ]\n",
            " [-0.01966642 -0.01309816]\n",
            " [-1.34125005  0.37452205]\n",
            " [-0.68045824  1.20939635]\n",
            " [ 0.20059752  0.55342369]\n",
            " [-1.23111808  2.28280615]\n",
            " [-0.12979839  1.50756574]\n",
            " [-1.45138202  0.55342369]\n",
            " [-0.01966642  1.06031165]\n",
            " [ 2.07284099 -0.87778939]\n",
            " [-0.57032627 -0.96724021]\n",
            " [-0.35006233  0.16580348]\n",
            " [-0.35006233 -0.57962   ]\n",
            " [-1.12098611 -0.66907081]\n",
            " [-1.56151399  0.01671878]\n",
            " [-0.57032627 -0.01309816]\n",
            " [-0.23993036  1.20939635]\n",
            " [ 0.64112539 -1.17595878]\n",
            " [-0.57032627  0.22543736]\n",
            " [ 0.64112539  0.49378981]\n",
            " [-0.68045824 -0.84797245]\n",
            " [ 1.85257705 -0.34108449]\n",
            " [ 2.07284099  1.74610125]\n",
            " [-0.4601943   1.62683349]\n",
            " [-1.12098611 -1.62321286]\n",
            " [-0.57032627 -0.63925388]\n",
            " [ 1.63231311 -0.96724021]\n",
            " [-1.01085415  0.13598654]\n",
            " [-0.12979839  0.22543736]\n",
            " [-1.34125005 -1.02687408]\n",
            " [-1.01085415  0.07635266]\n",
            " [ 0.75125736 -0.84797245]\n",
            " [ 1.74244508 -0.34108449]\n",
            " [ 2.18297296  0.91122696]\n",
            " [-0.12979839 -0.01309816]\n",
            " [-1.45138202 -0.51998612]\n",
            " [ 1.08165327  0.49378981]\n",
            " [ 0.20059752  0.22543736]\n",
            " [-0.4601943  -0.57962   ]\n",
            " [-1.34125005  1.53738268]\n",
            " [-0.57032627  0.1061696 ]\n",
            " [-0.57032627  0.1061696 ]\n",
            " [ 0.9715213   0.52360675]\n",
            " [ 0.09046555  0.01671878]\n",
            " [-0.57032627  0.16580348]\n",
            " [-0.90072218 -1.59339593]\n",
            " [ 0.09046555  0.01671878]\n",
            " [ 1.96270902 -0.99705714]\n",
            " [-0.12979839  0.04653572]\n",
            " [-0.23993036 -0.37090142]\n",
            " [-0.01966642 -0.72870469]\n",
            " [-1.45138202 -1.53376205]\n",
            " [-0.57032627  0.58324063]]\n"
          ]
        }
      ]
    },
    {
      "cell_type": "code",
      "metadata": {
        "id": "laYbLkMNXpRm"
      },
      "source": [
        "#from sklearn.decomposition import PCA\n",
        "#pca = PCA(n_components=2)\n",
        "#X_train = pca.fit_transform(X_train)\n",
        "#X_test = pca.transform(X_test)"
      ],
      "execution_count": null,
      "outputs": []
    },
    {
      "cell_type": "markdown",
      "metadata": {
        "id": "4tDs-W5uKWfy"
      },
      "source": [
        "##Training the Logistic Regression model on the Training set"
      ]
    },
    {
      "cell_type": "code",
      "metadata": {
        "id": "361eYPV_Ke4_",
        "colab": {
          "base_uri": "https://localhost:8080/"
        },
        "outputId": "a450c9be-b857-4d0c-80d5-1cd900d662cd"
      },
      "source": [
        "from sklearn.linear_model import LogisticRegression\n",
        "classifier = LogisticRegression(random_state = 0)\n",
        "classifier.fit(X_train, y_train)"
      ],
      "execution_count": null,
      "outputs": [
        {
          "output_type": "execute_result",
          "data": {
            "text/plain": [
              "LogisticRegression(random_state=0)"
            ]
          },
          "metadata": {},
          "execution_count": 16
        }
      ]
    },
    {
      "cell_type": "markdown",
      "metadata": {
        "id": "ICKiGzaAKsuy"
      },
      "source": [
        "## Predicting New Result"
      ]
    },
    {
      "cell_type": "code",
      "metadata": {
        "id": "8c5ZhaMuKqlG",
        "colab": {
          "base_uri": "https://localhost:8080/"
        },
        "outputId": "f1f8700b-7c91-47b9-bbd3-bc9fe980c288"
      },
      "source": [
        "print(classifier.predict(sc.transform([[30,87000]])))"
      ],
      "execution_count": null,
      "outputs": [
        {
          "output_type": "stream",
          "name": "stdout",
          "text": [
            "[0]\n"
          ]
        }
      ]
    },
    {
      "cell_type": "markdown",
      "metadata": {
        "id": "JnR6uYarK7CO"
      },
      "source": [
        "##Predicting the Test set results"
      ]
    },
    {
      "cell_type": "code",
      "metadata": {
        "id": "RfiKRIlTK3dV",
        "colab": {
          "base_uri": "https://localhost:8080/"
        },
        "outputId": "c3b41720-7e6d-49bf-d5e5-69d3df76c290"
      },
      "source": [
        "y_pred = classifier.predict(X_test)\n",
        "print(np.concatenate((y_pred.reshape(len(y_pred),1), y_test.reshape(len(y_test),1)),1))"
      ],
      "execution_count": null,
      "outputs": [
        {
          "output_type": "stream",
          "name": "stdout",
          "text": [
            "[[0 0]\n",
            " [0 0]\n",
            " [0 0]\n",
            " [0 0]\n",
            " [0 0]\n",
            " [1 1]\n",
            " [1 1]\n",
            " [1 1]\n",
            " [1 1]\n",
            " [0 0]\n",
            " [0 0]\n",
            " [0 0]\n",
            " [1 1]\n",
            " [0 0]\n",
            " [0 1]\n",
            " [0 0]\n",
            " [0 0]\n",
            " [0 0]\n",
            " [0 0]\n",
            " [1 1]\n",
            " [1 1]\n",
            " [0 1]\n",
            " [0 0]\n",
            " [1 1]\n",
            " [0 0]\n",
            " [0 1]\n",
            " [0 1]\n",
            " [0 0]\n",
            " [0 0]\n",
            " [0 1]\n",
            " [0 0]\n",
            " [0 1]\n",
            " [0 0]\n",
            " [1 1]\n",
            " [0 0]\n",
            " [0 0]\n",
            " [1 1]\n",
            " [1 1]\n",
            " [0 0]\n",
            " [0 1]\n",
            " [0 0]\n",
            " [0 0]\n",
            " [0 1]\n",
            " [1 1]\n",
            " [0 0]\n",
            " [0 0]\n",
            " [0 0]\n",
            " [1 1]\n",
            " [1 1]\n",
            " [0 1]\n",
            " [1 1]\n",
            " [1 1]\n",
            " [0 0]\n",
            " [0 0]\n",
            " [0 0]\n",
            " [0 0]\n",
            " [1 0]\n",
            " [1 1]\n",
            " [0 0]\n",
            " [0 0]\n",
            " [1 1]\n",
            " [0 0]\n",
            " [0 0]\n",
            " [0 1]\n",
            " [0 0]\n",
            " [0 0]\n",
            " [1 1]\n",
            " [1 1]\n",
            " [1 1]\n",
            " [0 0]\n",
            " [0 1]]\n"
          ]
        }
      ]
    },
    {
      "cell_type": "markdown",
      "metadata": {
        "id": "XTXIMj_pLJFG"
      },
      "source": [
        "## Accuracy Score"
      ]
    },
    {
      "cell_type": "code",
      "metadata": {
        "colab": {
          "base_uri": "https://localhost:8080/"
        },
        "id": "cy88M4CFLL3b",
        "outputId": "c6e85a61-8176-4431-c2c1-6492a57b1d08"
      },
      "source": [
        "from sklearn.metrics import confusion_matrix, accuracy_score\n",
        "cm = confusion_matrix(y_test, y_pred)\n",
        "print(cm)\n",
        "accuracy_score(y_test, y_pred)"
      ],
      "execution_count": null,
      "outputs": [
        {
          "output_type": "stream",
          "name": "stdout",
          "text": [
            "[[38  1]\n",
            " [11 21]]\n"
          ]
        },
        {
          "output_type": "execute_result",
          "data": {
            "text/plain": [
              "0.8309859154929577"
            ]
          },
          "metadata": {},
          "execution_count": 19
        }
      ]
    }
  ]
}